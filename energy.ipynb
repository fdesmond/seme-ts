{
 "cells": [
  {
   "cell_type": "markdown",
   "metadata": {},
   "source": [
    "Energy\n",
    "===================="
   ]
  },
  {
   "cell_type": "markdown",
   "metadata": {},
   "source": [
    "## Variable description\n",
    "- date time year-month-day hour:minute:second \n",
    "- Appliances, energy use in Wh\n",
    "- lights, energy use of light fixtures in the house in Wh\n",
    "- T1, Temperature in kitchen area, in Celsius\n",
    "- RH_1, Humidity in kitchen area, in %\n",
    "- T2, Temperature in living room area, in Celsius\n",
    "- RH_2, Humidity in living room area, in %\n",
    "- T3, Temperature in laundry room area\n",
    "- RH_3, Humidity in laundry room area, in %\n",
    "- T4, Temperature in office room, in Celsius\n",
    "- RH_4, Humidity in office room, in %\n",
    "- T5, Temperature in bathroom, in Celsius\n",
    "- RH_5, Humidity in bathroom, in %\n",
    "- T6, Temperature outside the building (north side), in Celsius\n",
    "- RH_6, Humidity outside the building (north side), in %\n",
    "- T7, Temperature in ironing room , in Celsius\n",
    "- RH_7, Humidity in ironing room, in %\n",
    "- T8, Temperature in teenager room 2, in Celsius\n",
    "- RH_8, Humidity in teenager room 2, in %\n",
    "- T9, Temperature in parents room, in Celsius\n",
    "- RH_9, Humidity in parents room, in %\n",
    "- To, Temperature outside (from Chièvres weather station), in Celsius\n",
    "- Pressure (from Chièvres weather station), in mm Hg\n",
    "- RH_out, Humidity outside (from Chièvres weather station), in %\n",
    "- Windspeed (from Chièvres weather station), in m/s\n",
    "- Visibility (from Chièvres weather station), in km\n",
    "- Tdewpoint (from Chièvres weather station), °C\n",
    "- rv1, Random variable 1, nondimensional\n",
    "- rv2, Rnadom variable 2, nondimensional\n",
    "\n",
    "Where indicated, data from the nearest airport weather station (Chièvres Airport, Belgium) was downloaded from a public data set from Reliable Prognosis, rp5.ru. Permission was obtained from Reliable Prognosis for the distribution of the 4 months of data."
   ]
  },
  {
   "cell_type": "code",
   "execution_count": 1,
   "metadata": {},
   "outputs": [],
   "source": [
    "import pandas as pd\n",
    "import numpy as np\n",
    "import matplotlib.pyplot as plt\n",
    "%matplotlib inline"
   ]
  },
  {
   "cell_type": "code",
   "execution_count": 2,
   "metadata": {},
   "outputs": [],
   "source": [
    "from tsmall import *"
   ]
  },
  {
   "cell_type": "code",
   "execution_count": 3,
   "metadata": {},
   "outputs": [],
   "source": [
    "data_A = pd.read_csv('energy_data.csv', parse_dates=['date'])\n",
    "data_A.set_index('date', inplace=True)"
   ]
  },
  {
   "cell_type": "code",
   "execution_count": 4,
   "metadata": {
    "scrolled": true
   },
   "outputs": [
    {
     "data": {
      "text/plain": [
       "<matplotlib.axes._subplots.AxesSubplot at 0x7fd866aa0cf8>"
      ]
     },
     "execution_count": 4,
     "metadata": {},
     "output_type": "execute_result"
    },
    {
     "data": {
      "image/png": "[encoded data removed]",
      "text/plain": [
       "<Figure size 432x288 with 1 Axes>"
      ]
     },
     "metadata": {
      "needs_background": "light"
     },
     "output_type": "display_data"
    }
   ],
   "source": [
    "data_A.T_out.plot()"
   ]
  },
  {
   "cell_type": "code",
   "execution_count": 5,
   "metadata": {},
   "outputs": [
    {
     "name": "stderr",
     "output_type": "stream",
     "text": [
      "/Users/fdesmond/Dropbox/Coding/SEME ts/tsmall/augment.py:48: ComplexWarning: Casting complex values to real discards the imaginary part\n",
      "  X_dist[i:i+t_int, j] = tsaug(X_dist[i:i+t_int, j], sigma=sigma)\n"
     ]
    }
   ],
   "source": [
    "ts_index = ['T1', 'RH_1', 'T2', 'RH_2', 'T3', 'RH_3', 'T4',\n",
    "       'RH_4', 'T5', 'RH_5', 'T6', 'RH_6', 'T7', 'RH_7', 'T8', 'RH_8', 'T9',\n",
    "       'RH_9', 'T_out', 'Press_mm_hg', 'RH_out', 'Windspeed',\n",
    "       'Tdewpoint', 'Appliances']\n",
    "\n",
    "norm_data = data_A[ts_index].apply(min_max_normalization)\n",
    "norm_data.describe()\n",
    "test = dfaug(norm_data)"
   ]
  },
  {
   "cell_type": "code",
   "execution_count": 8,
   "metadata": {},
   "outputs": [
    {
     "data": {
      "text/html": [
       "<div>\n",
       "<style scoped>\n",
       "    .dataframe tbody tr th:only-of-type {\n",
       "        vertical-align: middle;\n",
       "    }\n",
       "\n",
       "    .dataframe tbody tr th {\n",
       "        vertical-align: top;\n",
       "    }\n",
       "\n",
       "    .dataframe thead th {\n",
       "        text-align: right;\n",
       "    }\n",
       "</style>\n",
       "<table border=\"1\" class=\"dataframe\">\n",
       "  <thead>\n",
       "    <tr style=\"text-align: right;\">\n",
       "      <th></th>\n",
       "      <th>T1</th>\n",
       "      <th>RH_1</th>\n",
       "      <th>T2</th>\n",
       "      <th>RH_2</th>\n",
       "      <th>T3</th>\n",
       "      <th>RH_3</th>\n",
       "      <th>T4</th>\n",
       "      <th>RH_4</th>\n",
       "      <th>T5</th>\n",
       "      <th>RH_5</th>\n",
       "      <th>...</th>\n",
       "      <th>T8</th>\n",
       "      <th>RH_8</th>\n",
       "      <th>T9</th>\n",
       "      <th>RH_9</th>\n",
       "      <th>T_out</th>\n",
       "      <th>Press_mm_hg</th>\n",
       "      <th>RH_out</th>\n",
       "      <th>Windspeed</th>\n",
       "      <th>Tdewpoint</th>\n",
       "      <th>Appliances</th>\n",
       "    </tr>\n",
       "  </thead>\n",
       "  <tbody>\n",
       "    <tr>\n",
       "      <th>count</th>\n",
       "      <td>19735.000000</td>\n",
       "      <td>19735.000000</td>\n",
       "      <td>19735.000000</td>\n",
       "      <td>19735.000000</td>\n",
       "      <td>19735.000000</td>\n",
       "      <td>19735.000000</td>\n",
       "      <td>19735.000000</td>\n",
       "      <td>19735.000000</td>\n",
       "      <td>19735.000000</td>\n",
       "      <td>19735.000000</td>\n",
       "      <td>...</td>\n",
       "      <td>19735.000000</td>\n",
       "      <td>19735.000000</td>\n",
       "      <td>19735.000000</td>\n",
       "      <td>19735.000000</td>\n",
       "      <td>19735.000000</td>\n",
       "      <td>19735.000000</td>\n",
       "      <td>19735.000000</td>\n",
       "      <td>19735.000000</td>\n",
       "      <td>19735.000000</td>\n",
       "      <td>19735.000000</td>\n",
       "    </tr>\n",
       "    <tr>\n",
       "      <th>mean</th>\n",
       "      <td>0.517061</td>\n",
       "      <td>0.364271</td>\n",
       "      <td>0.308303</td>\n",
       "      <td>0.561170</td>\n",
       "      <td>0.421038</td>\n",
       "      <td>0.489601</td>\n",
       "      <td>0.518499</td>\n",
       "      <td>0.485143</td>\n",
       "      <td>0.407272</td>\n",
       "      <td>0.317777</td>\n",
       "      <td>...</td>\n",
       "      <td>0.523873</td>\n",
       "      <td>0.457031</td>\n",
       "      <td>0.478234</td>\n",
       "      <td>0.512655</td>\n",
       "      <td>0.399089</td>\n",
       "      <td>0.609828</td>\n",
       "      <td>0.733558</td>\n",
       "      <td>0.288554</td>\n",
       "      <td>0.468810</td>\n",
       "      <td>0.081958</td>\n",
       "    </tr>\n",
       "    <tr>\n",
       "      <th>std</th>\n",
       "      <td>0.169595</td>\n",
       "      <td>0.109512</td>\n",
       "      <td>0.159412</td>\n",
       "      <td>0.114438</td>\n",
       "      <td>0.166676</td>\n",
       "      <td>0.152107</td>\n",
       "      <td>0.184044</td>\n",
       "      <td>0.185289</td>\n",
       "      <td>0.176266</td>\n",
       "      <td>0.135656</td>\n",
       "      <td>...</td>\n",
       "      <td>0.179081</td>\n",
       "      <td>0.179039</td>\n",
       "      <td>0.209647</td>\n",
       "      <td>0.171833</td>\n",
       "      <td>0.170978</td>\n",
       "      <td>0.172080</td>\n",
       "      <td>0.196067</td>\n",
       "      <td>0.175087</td>\n",
       "      <td>0.189803</td>\n",
       "      <td>0.095818</td>\n",
       "    </tr>\n",
       "    <tr>\n",
       "      <th>min</th>\n",
       "      <td>0.000000</td>\n",
       "      <td>0.000000</td>\n",
       "      <td>0.000000</td>\n",
       "      <td>0.000000</td>\n",
       "      <td>0.000000</td>\n",
       "      <td>0.000000</td>\n",
       "      <td>0.000000</td>\n",
       "      <td>0.000000</td>\n",
       "      <td>0.000000</td>\n",
       "      <td>0.000000</td>\n",
       "      <td>...</td>\n",
       "      <td>0.000000</td>\n",
       "      <td>0.000000</td>\n",
       "      <td>0.000000</td>\n",
       "      <td>0.000000</td>\n",
       "      <td>0.000000</td>\n",
       "      <td>0.000000</td>\n",
       "      <td>0.000000</td>\n",
       "      <td>0.000000</td>\n",
       "      <td>0.000000</td>\n",
       "      <td>0.000000</td>\n",
       "    </tr>\n",
       "    <tr>\n",
       "      <th>25%</th>\n",
       "      <td>0.419219</td>\n",
       "      <td>0.283735</td>\n",
       "      <td>0.195542</td>\n",
       "      <td>0.490299</td>\n",
       "      <td>0.298272</td>\n",
       "      <td>0.380122</td>\n",
       "      <td>0.399099</td>\n",
       "      <td>0.335894</td>\n",
       "      <td>0.281653</td>\n",
       "      <td>0.234337</td>\n",
       "      <td>...</td>\n",
       "      <td>0.410436</td>\n",
       "      <td>0.324423</td>\n",
       "      <td>0.323621</td>\n",
       "      <td>0.386313</td>\n",
       "      <td>0.278671</td>\n",
       "      <td>0.503101</td>\n",
       "      <td>0.609649</td>\n",
       "      <td>0.142857</td>\n",
       "      <td>0.339367</td>\n",
       "      <td>0.037383</td>\n",
       "    </tr>\n",
       "    <tr>\n",
       "      <th>50%</th>\n",
       "      <td>0.507920</td>\n",
       "      <td>0.347675</td>\n",
       "      <td>0.283499</td>\n",
       "      <td>0.563408</td>\n",
       "      <td>0.407112</td>\n",
       "      <td>0.456302</td>\n",
       "      <td>0.501502</td>\n",
       "      <td>0.458387</td>\n",
       "      <td>0.387960</td>\n",
       "      <td>0.289821</td>\n",
       "      <td>...</td>\n",
       "      <td>0.530363</td>\n",
       "      <td>0.437800</td>\n",
       "      <td>0.468262</td>\n",
       "      <td>0.485651</td>\n",
       "      <td>0.383173</td>\n",
       "      <td>0.623256</td>\n",
       "      <td>0.785088</td>\n",
       "      <td>0.261905</td>\n",
       "      <td>0.453997</td>\n",
       "      <td>0.046729</td>\n",
       "    </tr>\n",
       "    <tr>\n",
       "      <th>75%</th>\n",
       "      <td>0.613516</td>\n",
       "      <td>0.441519</td>\n",
       "      <td>0.392537</td>\n",
       "      <td>0.641016</td>\n",
       "      <td>0.505982</td>\n",
       "      <td>0.607260</td>\n",
       "      <td>0.630631</td>\n",
       "      <td>0.618722</td>\n",
       "      <td>0.505460</td>\n",
       "      <td>0.358586</td>\n",
       "      <td>...</td>\n",
       "      <td>0.648459</td>\n",
       "      <td>0.580398</td>\n",
       "      <td>0.594173</td>\n",
       "      <td>0.627956</td>\n",
       "      <td>0.495445</td>\n",
       "      <td>0.735659</td>\n",
       "      <td>0.890351</td>\n",
       "      <td>0.392857</td>\n",
       "      <td>0.595777</td>\n",
       "      <td>0.084112</td>\n",
       "    </tr>\n",
       "    <tr>\n",
       "      <th>max</th>\n",
       "      <td>1.000000</td>\n",
       "      <td>1.000000</td>\n",
       "      <td>1.000000</td>\n",
       "      <td>1.000000</td>\n",
       "      <td>1.000000</td>\n",
       "      <td>1.000000</td>\n",
       "      <td>1.000000</td>\n",
       "      <td>1.000000</td>\n",
       "      <td>1.000000</td>\n",
       "      <td>1.000000</td>\n",
       "      <td>...</td>\n",
       "      <td>1.000000</td>\n",
       "      <td>1.000000</td>\n",
       "      <td>1.000000</td>\n",
       "      <td>1.000000</td>\n",
       "      <td>1.000000</td>\n",
       "      <td>1.000000</td>\n",
       "      <td>1.000000</td>\n",
       "      <td>1.000000</td>\n",
       "      <td>1.000000</td>\n",
       "      <td>1.000000</td>\n",
       "    </tr>\n",
       "  </tbody>\n",
       "</table>\n",
       "<p>8 rows × 24 columns</p>\n",
       "</div>"
      ],
      "text/plain": [
       "                 T1          RH_1            T2          RH_2            T3  \\\n",
       "count  19735.000000  19735.000000  19735.000000  19735.000000  19735.000000   \n",
       "mean       0.517061      0.364271      0.308303      0.561170      0.421038   \n",
       "std        0.169595      0.109512      0.159412      0.114438      0.166676   \n",
       "min        0.000000      0.000000      0.000000      0.000000      0.000000   \n",
       "25%        0.419219      0.283735      0.195542      0.490299      0.298272   \n",
       "50%        0.507920      0.347675      0.283499      0.563408      0.407112   \n",
       "75%        0.613516      0.441519      0.392537      0.641016      0.505982   \n",
       "max        1.000000      1.000000      1.000000      1.000000      1.000000   \n",
       "\n",
       "               RH_3            T4          RH_4            T5          RH_5  \\\n",
       "count  19735.000000  19735.000000  19735.000000  19735.000000  19735.000000   \n",
       "mean       0.489601      0.518499      0.485143      0.407272      0.317777   \n",
       "std        0.152107      0.184044      0.185289      0.176266      0.135656   \n",
       "min        0.000000      0.000000      0.000000      0.000000      0.000000   \n",
       "25%        0.380122      0.399099      0.335894      0.281653      0.234337   \n",
       "50%        0.456302      0.501502      0.458387      0.387960      0.289821   \n",
       "75%        0.607260      0.630631      0.618722      0.505460      0.358586   \n",
       "max        1.000000      1.000000      1.000000      1.000000      1.000000   \n",
       "\n",
       "       ...            T8          RH_8            T9          RH_9  \\\n",
       "count  ...  19735.000000  19735.000000  19735.000000  19735.000000   \n",
       "mean   ...      0.523873      0.457031      0.478234      0.512655   \n",
       "std    ...      0.179081      0.179039      0.209647      0.171833   \n",
       "min    ...      0.000000      0.000000      0.000000      0.000000   \n",
       "25%    ...      0.410436      0.324423      0.323621      0.386313   \n",
       "50%    ...      0.530363      0.437800      0.468262      0.485651   \n",
       "75%    ...      0.648459      0.580398      0.594173      0.627956   \n",
       "max    ...      1.000000      1.000000      1.000000      1.000000   \n",
       "\n",
       "              T_out   Press_mm_hg        RH_out     Windspeed     Tdewpoint  \\\n",
       "count  19735.000000  19735.000000  19735.000000  19735.000000  19735.000000   \n",
       "mean       0.399089      0.609828      0.733558      0.288554      0.468810   \n",
       "std        0.170978      0.172080      0.196067      0.175087      0.189803   \n",
       "min        0.000000      0.000000      0.000000      0.000000      0.000000   \n",
       "25%        0.278671      0.503101      0.609649      0.142857      0.339367   \n",
       "50%        0.383173      0.623256      0.785088      0.261905      0.453997   \n",
       "75%        0.495445      0.735659      0.890351      0.392857      0.595777   \n",
       "max        1.000000      1.000000      1.000000      1.000000      1.000000   \n",
       "\n",
       "         Appliances  \n",
       "count  19735.000000  \n",
       "mean       0.081958  \n",
       "std        0.095818  \n",
       "min        0.000000  \n",
       "25%        0.037383  \n",
       "50%        0.046729  \n",
       "75%        0.084112  \n",
       "max        1.000000  \n",
       "\n",
       "[8 rows x 24 columns]"
      ]
     },
     "execution_count": 8,
     "metadata": {},
     "output_type": "execute_result"
    }
   ],
   "source": [
    "norm_data.describe()"
   ]
  },
  {
   "cell_type": "code",
   "execution_count": 9,
   "metadata": {},
   "outputs": [
    {
     "data": {
      "text/html": [
       "<div>\n",
       "<style scoped>\n",
       "    .dataframe tbody tr th:only-of-type {\n",
       "        vertical-align: middle;\n",
       "    }\n",
       "\n",
       "    .dataframe tbody tr th {\n",
       "        vertical-align: top;\n",
       "    }\n",
       "\n",
       "    .dataframe thead th {\n",
       "        text-align: right;\n",
       "    }\n",
       "</style>\n",
       "<table border=\"1\" class=\"dataframe\">\n",
       "  <thead>\n",
       "    <tr style=\"text-align: right;\">\n",
       "      <th></th>\n",
       "      <th>T1</th>\n",
       "      <th>RH_1</th>\n",
       "      <th>T2</th>\n",
       "      <th>RH_2</th>\n",
       "      <th>T3</th>\n",
       "      <th>RH_3</th>\n",
       "      <th>T4</th>\n",
       "      <th>RH_4</th>\n",
       "      <th>T5</th>\n",
       "      <th>RH_5</th>\n",
       "      <th>...</th>\n",
       "      <th>T8</th>\n",
       "      <th>RH_8</th>\n",
       "      <th>T9</th>\n",
       "      <th>RH_9</th>\n",
       "      <th>T_out</th>\n",
       "      <th>Press_mm_hg</th>\n",
       "      <th>RH_out</th>\n",
       "      <th>Windspeed</th>\n",
       "      <th>Tdewpoint</th>\n",
       "      <th>Appliances</th>\n",
       "    </tr>\n",
       "  </thead>\n",
       "  <tbody>\n",
       "    <tr>\n",
       "      <th>count</th>\n",
       "      <td>39470.000000</td>\n",
       "      <td>39470.000000</td>\n",
       "      <td>39470.000000</td>\n",
       "      <td>39470.000000</td>\n",
       "      <td>39470.000000</td>\n",
       "      <td>39470.000000</td>\n",
       "      <td>39470.000000</td>\n",
       "      <td>39470.000000</td>\n",
       "      <td>39470.000000</td>\n",
       "      <td>39470.000000</td>\n",
       "      <td>...</td>\n",
       "      <td>39470.000000</td>\n",
       "      <td>39470.000000</td>\n",
       "      <td>39470.000000</td>\n",
       "      <td>39470.000000</td>\n",
       "      <td>39470.000000</td>\n",
       "      <td>39470.000000</td>\n",
       "      <td>39470.000000</td>\n",
       "      <td>39470.000000</td>\n",
       "      <td>39470.000000</td>\n",
       "      <td>39470.000000</td>\n",
       "    </tr>\n",
       "    <tr>\n",
       "      <th>mean</th>\n",
       "      <td>0.487466</td>\n",
       "      <td>0.363605</td>\n",
       "      <td>0.280368</td>\n",
       "      <td>0.569554</td>\n",
       "      <td>0.382942</td>\n",
       "      <td>0.500141</td>\n",
       "      <td>0.470923</td>\n",
       "      <td>0.493385</td>\n",
       "      <td>0.370541</td>\n",
       "      <td>0.322177</td>\n",
       "      <td>...</td>\n",
       "      <td>0.498078</td>\n",
       "      <td>0.463557</td>\n",
       "      <td>0.434210</td>\n",
       "      <td>0.519975</td>\n",
       "      <td>0.376461</td>\n",
       "      <td>0.630955</td>\n",
       "      <td>0.748711</td>\n",
       "      <td>0.301520</td>\n",
       "      <td>0.450961</td>\n",
       "      <td>0.082360</td>\n",
       "    </tr>\n",
       "    <tr>\n",
       "      <th>std</th>\n",
       "      <td>0.158312</td>\n",
       "      <td>0.104929</td>\n",
       "      <td>0.140381</td>\n",
       "      <td>0.101772</td>\n",
       "      <td>0.148853</td>\n",
       "      <td>0.155108</td>\n",
       "      <td>0.164700</td>\n",
       "      <td>0.188664</td>\n",
       "      <td>0.154084</td>\n",
       "      <td>0.133667</td>\n",
       "      <td>...</td>\n",
       "      <td>0.177543</td>\n",
       "      <td>0.183752</td>\n",
       "      <td>0.188283</td>\n",
       "      <td>0.172725</td>\n",
       "      <td>0.152142</td>\n",
       "      <td>0.175883</td>\n",
       "      <td>0.178465</td>\n",
       "      <td>0.184142</td>\n",
       "      <td>0.175671</td>\n",
       "      <td>0.098570</td>\n",
       "    </tr>\n",
       "    <tr>\n",
       "      <th>min</th>\n",
       "      <td>0.000000</td>\n",
       "      <td>0.000000</td>\n",
       "      <td>0.000000</td>\n",
       "      <td>0.000000</td>\n",
       "      <td>-0.009869</td>\n",
       "      <td>0.000000</td>\n",
       "      <td>0.000000</td>\n",
       "      <td>0.000000</td>\n",
       "      <td>-0.009210</td>\n",
       "      <td>0.000000</td>\n",
       "      <td>...</td>\n",
       "      <td>0.000000</td>\n",
       "      <td>0.000000</td>\n",
       "      <td>-0.012775</td>\n",
       "      <td>0.000000</td>\n",
       "      <td>-0.024490</td>\n",
       "      <td>0.000000</td>\n",
       "      <td>0.000000</td>\n",
       "      <td>0.000000</td>\n",
       "      <td>0.000000</td>\n",
       "      <td>0.000000</td>\n",
       "    </tr>\n",
       "    <tr>\n",
       "      <th>25%</th>\n",
       "      <td>0.403680</td>\n",
       "      <td>0.285570</td>\n",
       "      <td>0.186576</td>\n",
       "      <td>0.509590</td>\n",
       "      <td>0.276715</td>\n",
       "      <td>0.386197</td>\n",
       "      <td>0.377477</td>\n",
       "      <td>0.341300</td>\n",
       "      <td>0.264692</td>\n",
       "      <td>0.241304</td>\n",
       "      <td>...</td>\n",
       "      <td>0.383888</td>\n",
       "      <td>0.331277</td>\n",
       "      <td>0.301769</td>\n",
       "      <td>0.387555</td>\n",
       "      <td>0.277599</td>\n",
       "      <td>0.518605</td>\n",
       "      <td>0.631579</td>\n",
       "      <td>0.142857</td>\n",
       "      <td>0.337104</td>\n",
       "      <td>0.037383</td>\n",
       "    </tr>\n",
       "    <tr>\n",
       "      <th>50%</th>\n",
       "      <td>0.488648</td>\n",
       "      <td>0.346740</td>\n",
       "      <td>0.263872</td>\n",
       "      <td>0.574019</td>\n",
       "      <td>0.381356</td>\n",
       "      <td>0.459106</td>\n",
       "      <td>0.467568</td>\n",
       "      <td>0.466496</td>\n",
       "      <td>0.360248</td>\n",
       "      <td>0.288811</td>\n",
       "      <td>...</td>\n",
       "      <td>0.517292</td>\n",
       "      <td>0.448801</td>\n",
       "      <td>0.448491</td>\n",
       "      <td>0.487762</td>\n",
       "      <td>0.369775</td>\n",
       "      <td>0.640310</td>\n",
       "      <td>0.791667</td>\n",
       "      <td>0.273810</td>\n",
       "      <td>0.448718</td>\n",
       "      <td>0.046729</td>\n",
       "    </tr>\n",
       "    <tr>\n",
       "      <th>75%</th>\n",
       "      <td>0.580781</td>\n",
       "      <td>0.442161</td>\n",
       "      <td>0.356191</td>\n",
       "      <td>0.640172</td>\n",
       "      <td>0.463985</td>\n",
       "      <td>0.625767</td>\n",
       "      <td>0.549550</td>\n",
       "      <td>0.627543</td>\n",
       "      <td>0.455805</td>\n",
       "      <td>0.362789</td>\n",
       "      <td>...</td>\n",
       "      <td>0.621910</td>\n",
       "      <td>0.590359</td>\n",
       "      <td>0.552549</td>\n",
       "      <td>0.634658</td>\n",
       "      <td>0.466238</td>\n",
       "      <td>0.767442</td>\n",
       "      <td>0.888158</td>\n",
       "      <td>0.416667</td>\n",
       "      <td>0.561086</td>\n",
       "      <td>0.084112</td>\n",
       "    </tr>\n",
       "    <tr>\n",
       "      <th>max</th>\n",
       "      <td>1.000000</td>\n",
       "      <td>1.000000</td>\n",
       "      <td>1.000000</td>\n",
       "      <td>1.000000</td>\n",
       "      <td>1.000000</td>\n",
       "      <td>1.000000</td>\n",
       "      <td>1.000000</td>\n",
       "      <td>1.000000</td>\n",
       "      <td>1.000000</td>\n",
       "      <td>1.000000</td>\n",
       "      <td>...</td>\n",
       "      <td>1.000000</td>\n",
       "      <td>1.000000</td>\n",
       "      <td>1.000000</td>\n",
       "      <td>1.000000</td>\n",
       "      <td>1.000000</td>\n",
       "      <td>1.000000</td>\n",
       "      <td>1.000000</td>\n",
       "      <td>1.000000</td>\n",
       "      <td>1.000000</td>\n",
       "      <td>1.000000</td>\n",
       "    </tr>\n",
       "  </tbody>\n",
       "</table>\n",
       "<p>8 rows × 24 columns</p>\n",
       "</div>"
      ],
      "text/plain": [
       "                 T1          RH_1            T2          RH_2            T3  \\\n",
       "count  39470.000000  39470.000000  39470.000000  39470.000000  39470.000000   \n",
       "mean       0.487466      0.363605      0.280368      0.569554      0.382942   \n",
       "std        0.158312      0.104929      0.140381      0.101772      0.148853   \n",
       "min        0.000000      0.000000      0.000000      0.000000     -0.009869   \n",
       "25%        0.403680      0.285570      0.186576      0.509590      0.276715   \n",
       "50%        0.488648      0.346740      0.263872      0.574019      0.381356   \n",
       "75%        0.580781      0.442161      0.356191      0.640172      0.463985   \n",
       "max        1.000000      1.000000      1.000000      1.000000      1.000000   \n",
       "\n",
       "               RH_3            T4          RH_4            T5          RH_5  \\\n",
       "count  39470.000000  39470.000000  39470.000000  39470.000000  39470.000000   \n",
       "mean       0.500141      0.470923      0.493385      0.370541      0.322177   \n",
       "std        0.155108      0.164700      0.188664      0.154084      0.133667   \n",
       "min        0.000000      0.000000      0.000000     -0.009210      0.000000   \n",
       "25%        0.386197      0.377477      0.341300      0.264692      0.241304   \n",
       "50%        0.459106      0.467568      0.466496      0.360248      0.288811   \n",
       "75%        0.625767      0.549550      0.627543      0.455805      0.362789   \n",
       "max        1.000000      1.000000      1.000000      1.000000      1.000000   \n",
       "\n",
       "       ...            T8          RH_8            T9          RH_9  \\\n",
       "count  ...  39470.000000  39470.000000  39470.000000  39470.000000   \n",
       "mean   ...      0.498078      0.463557      0.434210      0.519975   \n",
       "std    ...      0.177543      0.183752      0.188283      0.172725   \n",
       "min    ...      0.000000      0.000000     -0.012775      0.000000   \n",
       "25%    ...      0.383888      0.331277      0.301769      0.387555   \n",
       "50%    ...      0.517292      0.448801      0.448491      0.487762   \n",
       "75%    ...      0.621910      0.590359      0.552549      0.634658   \n",
       "max    ...      1.000000      1.000000      1.000000      1.000000   \n",
       "\n",
       "              T_out   Press_mm_hg        RH_out     Windspeed     Tdewpoint  \\\n",
       "count  39470.000000  39470.000000  39470.000000  39470.000000  39470.000000   \n",
       "mean       0.376461      0.630955      0.748711      0.301520      0.450961   \n",
       "std        0.152142      0.175883      0.178465      0.184142      0.175671   \n",
       "min       -0.024490      0.000000      0.000000      0.000000      0.000000   \n",
       "25%        0.277599      0.518605      0.631579      0.142857      0.337104   \n",
       "50%        0.369775      0.640310      0.791667      0.273810      0.448718   \n",
       "75%        0.466238      0.767442      0.888158      0.416667      0.561086   \n",
       "max        1.000000      1.000000      1.000000      1.000000      1.000000   \n",
       "\n",
       "         Appliances  \n",
       "count  39470.000000  \n",
       "mean       0.082360  \n",
       "std        0.098570  \n",
       "min        0.000000  \n",
       "25%        0.037383  \n",
       "50%        0.046729  \n",
       "75%        0.084112  \n",
       "max        1.000000  \n",
       "\n",
       "[8 rows x 24 columns]"
      ]
     },
     "execution_count": 9,
     "metadata": {},
     "output_type": "execute_result"
    }
   ],
   "source": [
    "test.describe()"
   ]
  },
  {
   "cell_type": "code",
   "execution_count": 5,
   "metadata": {},
   "outputs": [
    {
     "data": {
      "text/plain": [
       "[Text(0, 0.5, 'Appliances')]"
      ]
     },
     "execution_count": 5,
     "metadata": {},
     "output_type": "execute_result"
    },
    {
     "data": {
      "image/png": "[encoded data removed]",
      "text/plain": [
       "<Figure size 432x288 with 1 Axes>"
      ]
     },
     "metadata": {
      "needs_background": "light"
     },
     "output_type": "display_data"
    }
   ],
   "source": [
    "data_A.Appliances.iloc[-100:].plot(marker='o', title='100 last points in data').set(ylabel='Appliances')"
   ]
  },
  {
   "cell_type": "markdown",
   "metadata": {},
   "source": [
    "## data_B\n",
    "### random block sampling \n",
    "Samples k blocks of size l."
   ]
  },
  {
   "cell_type": "code",
   "execution_count": 20,
   "metadata": {
    "scrolled": true
   },
   "outputs": [],
   "source": [
    "def block_sampling(N, k, l):\n",
    "    '''select k distinct intervals of size l from 0 to N\n",
    "    \n",
    "    return: a boolean series of length N.\n",
    "    '''\n",
    "    seq = list(range(N))\n",
    "    indices = range(N - (l - 1) * k)\n",
    "    result = np.array([False] * N)\n",
    "    offset = 0\n",
    "    for i in sorted(np.random.choice(indices, k)):\n",
    "        i += offset\n",
    "        result[seq[i:i+l]] = 1\n",
    "        offset += l - 1\n",
    "    return result"
   ]
  },
  {
   "cell_type": "markdown",
   "metadata": {},
   "source": [
    "Dataframe data_B using previous function with 5 blocks of length 60 -> n = 5 * 60 = 300"
   ]
  },
  {
   "cell_type": "code",
   "execution_count": 21,
   "metadata": {},
   "outputs": [
    {
     "data": {
      "text/plain": [
       "(300, 28)"
      ]
     },
     "metadata": {},
     "output_type": "display_data"
    }
   ],
   "source": [
    "indices_B = block_sampling(data_A.shape[0], 5, 60)\n",
    "data_B = data_A[indices_B]\n",
    "display(data_B.shape)"
   ]
  },
  {
   "cell_type": "code",
   "execution_count": 22,
   "metadata": {},
   "outputs": [
    {
     "data": {
      "text/plain": [
       "[<matplotlib.lines.Line2D at 0x7f909824ce80>]"
      ]
     },
     "execution_count": 22,
     "metadata": {},
     "output_type": "execute_result"
    },
    {
     "data": {
      "image/png": "[encoded data removed]",
      "text/plain": [
       "<Figure size 432x288 with 1 Axes>"
      ]
     },
     "metadata": {
      "needs_background": "light"
     },
     "output_type": "display_data"
    }
   ],
   "source": [
    "plt.plot(indices_B)"
   ]
  },
  {
   "cell_type": "code",
   "execution_count": 23,
   "metadata": {
    "scrolled": true
   },
   "outputs": [
    {
     "data": {
      "text/plain": [
       "<matplotlib.axes._subplots.AxesSubplot at 0x7f9098d40c88>"
      ]
     },
     "execution_count": 23,
     "metadata": {},
     "output_type": "execute_result"
    },
    {
     "data": {
      "image/png": "[encoded data removed]",
      "text/plain": [
       "<Figure size 1080x360 with 2 Axes>"
      ]
     },
     "metadata": {
      "needs_background": "light"
     },
     "output_type": "display_data"
    }
   ],
   "source": [
    "fig, ax = plt.subplots(figsize=[15,5], nrows=1, ncols=2)\n",
    "ax[0].set(title='Statistical properties of data_B', xlabel='Appliances histogram', xlim=[0,800])\n",
    "ax[1].set(title='Statistical properties of data_A', xlabel='Appliances histogram', xlim=[0,800])\n",
    "\n",
    "data_B.Appliances.hist(bins=100, ax=ax[0])\n",
    "data_A.Appliances.hist(bins=100, ax=ax[1])"
   ]
  },
  {
   "cell_type": "markdown",
   "metadata": {},
   "source": [
    "### Training RF on data_A"
   ]
  },
  {
   "cell_type": "code",
   "execution_count": 13,
   "metadata": {},
   "outputs": [],
   "source": [
    "from sklearn.ensemble import RandomForestRegressor\n",
    "from sklearn.model_selection import train_test_split\n",
    "\n",
    "y_A = data_A.Appliances\n",
    "X_A = data_A.drop(columns='Appliances')\n",
    "\n",
    "xtrain_A, xtest_A, ytrain_A, ytest_A = train_test_split(X_A, y_A, random_state=42)\n",
    "\n",
    "rf_A = RandomForestRegressor()"
   ]
  },
  {
   "cell_type": "code",
   "execution_count": 14,
   "metadata": {
    "scrolled": true
   },
   "outputs": [
    {
     "data": {
      "text/plain": [
       "RandomForestRegressor(bootstrap=True, ccp_alpha=0.0, criterion='mse',\n",
       "                      max_depth=None, max_features='auto', max_leaf_nodes=None,\n",
       "                      max_samples=None, min_impurity_decrease=0.0,\n",
       "                      min_impurity_split=None, min_samples_leaf=1,\n",
       "                      min_samples_split=2, min_weight_fraction_leaf=0.0,\n",
       "                      n_estimators=100, n_jobs=None, oob_score=False,\n",
       "                      random_state=None, verbose=0, warm_start=False)"
      ]
     },
     "execution_count": 14,
     "metadata": {},
     "output_type": "execute_result"
    }
   ],
   "source": [
    "rf_A.fit(xtrain_A, ytrain_A)"
   ]
  },
  {
   "cell_type": "code",
   "execution_count": 15,
   "metadata": {},
   "outputs": [
    {
     "data": {
      "text/plain": [
       "0.9303258629308374"
      ]
     },
     "execution_count": 15,
     "metadata": {},
     "output_type": "execute_result"
    }
   ],
   "source": [
    "rf_A.score(xtrain_A, ytrain_A)"
   ]
  },
  {
   "cell_type": "code",
   "execution_count": 16,
   "metadata": {},
   "outputs": [
    {
     "data": {
      "text/plain": [
       "0.5162060461921605"
      ]
     },
     "execution_count": 16,
     "metadata": {},
     "output_type": "execute_result"
    }
   ],
   "source": [
    "rf_A.score(xtest_A, ytest_A)"
   ]
  },
  {
   "cell_type": "markdown",
   "metadata": {},
   "source": [
    "Parameters should be tuned to prevent overfitting."
   ]
  },
  {
   "cell_type": "markdown",
   "metadata": {},
   "source": [
    "### Training RF on data_B and evaluating on data_A"
   ]
  },
  {
   "cell_type": "code",
   "execution_count": 17,
   "metadata": {
    "scrolled": true
   },
   "outputs": [
    {
     "data": {
      "text/plain": [
       "RandomForestRegressor(bootstrap=True, ccp_alpha=0.0, criterion='mse',\n",
       "                      max_depth=None, max_features='auto', max_leaf_nodes=None,\n",
       "                      max_samples=None, min_impurity_decrease=0.0,\n",
       "                      min_impurity_split=None, min_samples_leaf=1,\n",
       "                      min_samples_split=2, min_weight_fraction_leaf=0.0,\n",
       "                      n_estimators=100, n_jobs=None, oob_score=False,\n",
       "                      random_state=None, verbose=0, warm_start=False)"
      ]
     },
     "execution_count": 17,
     "metadata": {},
     "output_type": "execute_result"
    }
   ],
   "source": [
    "y_B = data_B.Appliances\n",
    "X_B = data_B.drop(columns='Appliances')\n",
    "\n",
    "xtrain_B, xtest_B, ytrain_B, ytest_B = train_test_split(X_B, y_B, random_state=42)\n",
    "\n",
    "rf_B = RandomForestRegressor()\n",
    "rf_B.fit(xtrain_B, ytrain_B)"
   ]
  },
  {
   "cell_type": "code",
   "execution_count": 18,
   "metadata": {},
   "outputs": [
    {
     "data": {
      "text/plain": [
       "0.3284659770636527"
      ]
     },
     "execution_count": 18,
     "metadata": {},
     "output_type": "execute_result"
    }
   ],
   "source": [
    "rf_B.score(xtest_B, ytest_B)"
   ]
  },
  {
   "cell_type": "code",
   "execution_count": 19,
   "metadata": {},
   "outputs": [
    {
     "data": {
      "text/plain": [
       "-1.436204601330184"
      ]
     },
     "execution_count": 19,
     "metadata": {},
     "output_type": "execute_result"
    }
   ],
   "source": [
    "rf_B.score(xtest_A, ytest_A)"
   ]
  },
  {
   "cell_type": "markdown",
   "metadata": {},
   "source": [
    "Our model is doing worst than the constant prediction on the bigger database -> it is highly overfitting."
   ]
  },
  {
   "cell_type": "code",
   "execution_count": null,
   "metadata": {},
   "outputs": [],
   "source": []
  }
 ],
 "metadata": {
  "kernelspec": {
   "display_name": "Python 3",
   "language": "python",
   "name": "python3"
  },
  "language_info": {
   "codemirror_mode": {
    "name": "ipython",
    "version": 3
   },
   "file_extension": ".py",
   "mimetype": "text/x-python",
   "name": "python",
   "nbconvert_exporter": "python",
   "pygments_lexer": "ipython3",
   "version": "3.7.3"
  }
 },
 "nbformat": 4,
 "nbformat_minor": 4
}
